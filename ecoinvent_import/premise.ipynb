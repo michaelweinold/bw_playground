{
 "cells": [
  {
   "attachments": {},
   "cell_type": "markdown",
   "metadata": {},
   "source": [
    "# Ecoinvent Import"
   ]
  },
  {
   "cell_type": "code",
   "execution_count": 13,
   "metadata": {},
   "outputs": [
    {
     "name": "stdout",
     "output_type": "stream",
     "text": [
      "Extracting XML data from 23523 datasets\n",
      "\u001b[2m13:52:54+0200\u001b[0m [\u001b[33m\u001b[1mwarning  \u001b[0m] \u001b[1mCan't import `SimaProBlockCSVImporter` - please install `bw2io` with `pip install bw2io[multifunctional]` or install `multifunctional` and `bw_simapro_csv` manually.\u001b[0m\n",
      "\u001b[2m13:52:54+0200\u001b[0m [\u001b[33m\u001b[1mwarning  \u001b[0m] \u001b[1mCan't import `SimaProBlockCSVImporter` - please install `bw2io` with `pip install bw2io[multifunctional]` or install `multifunctional` and `bw_simapro_csv` manually.\u001b[0m\n",
      "\u001b[2m13:52:54+0200\u001b[0m [\u001b[33m\u001b[1mwarning  \u001b[0m] \u001b[1mCan't import `SimaProBlockCSVImporter` - please install `bw2io` with `pip install bw2io[multifunctional]` or install `multifunctional` and `bw_simapro_csv` manually.\u001b[0m\n",
      "\u001b[2m13:52:54+0200\u001b[0m [\u001b[33m\u001b[1mwarning  \u001b[0m] \u001b[1mCan't import `SimaProBlockCSVImporter` - please install `bw2io` with `pip install bw2io[multifunctional]` or install `multifunctional` and `bw_simapro_csv` manually.\u001b[0m\n",
      "\u001b[2m13:52:54+0200\u001b[0m [\u001b[33m\u001b[1mwarning  \u001b[0m] \u001b[1mCan't import `SimaProBlockCSVImporter` - please install `bw2io` with `pip install bw2io[multifunctional]` or install `multifunctional` and `bw_simapro_csv` manually.\u001b[0m\n",
      "\u001b[2m13:52:54+0200\u001b[0m [\u001b[33m\u001b[1mwarning  \u001b[0m] \u001b[1mCan't import `SimaProBlockCSVImporter` - please install `bw2io` with `pip install bw2io[multifunctional]` or install `multifunctional` and `bw_simapro_csv` manually.\u001b[0m\n",
      "\u001b[2m13:52:54+0200\u001b[0m [\u001b[33m\u001b[1mwarning  \u001b[0m] \u001b[1mCan't import `SimaProBlockCSVImporter` - please install `bw2io` with `pip install bw2io[multifunctional]` or install `multifunctional` and `bw_simapro_csv` manually.\u001b[0m\n",
      "\u001b[2m13:52:54+0200\u001b[0m [\u001b[33m\u001b[1mwarning  \u001b[0m] \u001b[1mCan't import `SimaProBlockCSVImporter` - please install `bw2io` with `pip install bw2io[multifunctional]` or install `multifunctional` and `bw_simapro_csv` manually.\u001b[0m\n",
      "\u001b[2m13:52:54+0200\u001b[0m [\u001b[33m\u001b[1mwarning  \u001b[0m] \u001b[1mCan't import `SimaProBlockCSVImporter` - please install `bw2io` with `pip install bw2io[multifunctional]` or install `multifunctional` and `bw_simapro_csv` manually.\u001b[0m\n",
      "\u001b[2m13:52:54+0200\u001b[0m [\u001b[33m\u001b[1mwarning  \u001b[0m] \u001b[1mCan't import `SimaProBlockCSVImporter` - please install `bw2io` with `pip install bw2io[multifunctional]` or install `multifunctional` and `bw_simapro_csv` manually.\u001b[0m\n",
      "\u001b[2m13:53:15+0200\u001b[0m [\u001b[32m\u001b[1minfo     \u001b[0m] \u001b[1mExtracted 23523 datasets in 24.37 seconds\u001b[0m\n",
      "Applying strategy: normalize_units\n",
      "Applying strategy: update_ecoinvent_locations\n",
      "Applying strategy: remove_zero_amount_coproducts\n",
      "Applying strategy: remove_zero_amount_inputs_with_no_activity\n",
      "Applying strategy: remove_unnamed_parameters\n",
      "Applying strategy: es2_assign_only_product_with_amount_as_reference_product\n",
      "Applying strategy: assign_single_product_as_activity\n",
      "Applying strategy: create_composite_code\n",
      "Applying strategy: drop_unspecified_subcategories\n",
      "Applying strategy: fix_ecoinvent_flows_pre35\n",
      "Applying strategy: drop_temporary_outdated_biosphere_flows\n",
      "Applying strategy: link_biosphere_by_flow_uuid\n",
      "Applying strategy: link_internal_technosphere_by_composite_code\n",
      "Applying strategy: delete_exchanges_missing_activity\n",
      "Applying strategy: delete_ghost_exchanges\n",
      "Applying strategy: remove_uncertainty_from_negative_loss_exchanges\n",
      "Applying strategy: fix_unreasonably_high_lognormal_uncertainties\n",
      "Applying strategy: convert_activity_parameters_to_list\n",
      "Applying strategy: add_cpc_classification_from_single_reference_product\n",
      "Applying strategy: delete_none_synonyms\n",
      "Applying strategy: update_social_flows_in_older_consequential\n",
      "Applying strategy: set_lognormal_loc_value\n",
      "Applied 22 strategies in 5.06 seconds\n",
      "Graph statistics for `ei310` importer:\n",
      "23523 graph nodes:\n",
      "\tprocess: 23523\n",
      "743409 graph edges:\n",
      "\tbiosphere: 449622\n",
      "\ttechnosphere: 270264\n",
      "\tproduction: 23523\n",
      "743409 edges to the following databases:\n",
      "\tecoinvent-3.10-biosphere: 449622\n",
      "\tei310: 293787\n",
      "0 unique unlinked edges (0 total):\n",
      "\n",
      "\n"
     ]
    },
    {
     "data": {
      "text/plain": [
       "(23523, 743409, 0, 0)"
      ]
     },
     "execution_count": 13,
     "metadata": {},
     "output_type": "execute_result"
    }
   ],
   "source": [
    "import bw2io\n",
    "import bw2data\n",
    "\n",
    "importer_ei310 = bw2io.SingleOutputEcospold2Importer(\n",
    "    dirpath = '/Users/michaelweinold/Downloads/ecoinvent 3.10.1_cutoff_ecoSpold02/datasets',\n",
    "    db_name = 'ei310'\n",
    ")\n",
    "importer_ei310.apply_strategies()\n",
    "importer_ei310.statistics()"
   ]
  },
  {
   "cell_type": "code",
   "execution_count": 14,
   "metadata": {},
   "outputs": [
    {
     "data": {
      "text/plain": [
       "Databases dictionary with 2 object(s):\n",
       "\tecoinvent-3.10-apos\n",
       "\tecoinvent-3.10-biosphere"
      ]
     },
     "execution_count": 14,
     "metadata": {},
     "output_type": "execute_result"
    }
   ],
   "source": [
    "bd.databases"
   ]
  },
  {
   "cell_type": "code",
   "execution_count": 15,
   "metadata": {},
   "outputs": [],
   "source": [
    "from premise import *\n",
    "import bw2data"
   ]
  },
  {
   "cell_type": "code",
   "execution_count": 16,
   "metadata": {},
   "outputs": [
    {
     "name": "stdout",
     "output_type": "stream",
     "text": [
      "premise requires the name of your biosphere database.\n",
      "Please enter the name of your biosphere database as it appears in your project.\n",
      "Databases dictionary with 2 object(s):\n",
      "\tecoinvent-3.10-apos\n",
      "\tecoinvent-3.10-biosphere\n"
     ]
    },
    {
     "ename": "ValueError",
     "evalue": "The key must be 44 bytes long, not 25 bytes.",
     "output_type": "error",
     "traceback": [
      "\u001b[0;31m---------------------------------------------------------------------------\u001b[0m",
      "\u001b[0;31mValueError\u001b[0m                                Traceback (most recent call last)",
      "Cell \u001b[0;32mIn[16], line 1\u001b[0m\n\u001b[0;32m----> 1\u001b[0m ndb \u001b[38;5;241m=\u001b[39m \u001b[43mNewDatabase\u001b[49m\u001b[43m(\u001b[49m\n\u001b[1;32m      2\u001b[0m \u001b[43m    \u001b[49m\u001b[43mscenarios\u001b[49m\u001b[38;5;241;43m=\u001b[39;49m\u001b[43m[\u001b[49m\n\u001b[1;32m      3\u001b[0m \u001b[43m        \u001b[49m\u001b[43m{\u001b[49m\u001b[38;5;124;43m\"\u001b[39;49m\u001b[38;5;124;43mmodel\u001b[39;49m\u001b[38;5;124;43m\"\u001b[39;49m\u001b[43m:\u001b[49m\u001b[38;5;124;43m\"\u001b[39;49m\u001b[38;5;124;43mimage\u001b[39;49m\u001b[38;5;124;43m\"\u001b[39;49m\u001b[43m,\u001b[49m\u001b[43m \u001b[49m\u001b[38;5;124;43m\"\u001b[39;49m\u001b[38;5;124;43mpathway\u001b[39;49m\u001b[38;5;124;43m\"\u001b[39;49m\u001b[43m:\u001b[49m\u001b[38;5;124;43m\"\u001b[39;49m\u001b[38;5;124;43mSSP2-RCP19\u001b[39;49m\u001b[38;5;124;43m\"\u001b[39;49m\u001b[43m,\u001b[49m\u001b[43m \u001b[49m\u001b[38;5;124;43m\"\u001b[39;49m\u001b[38;5;124;43myear\u001b[39;49m\u001b[38;5;124;43m\"\u001b[39;49m\u001b[43m:\u001b[49m\u001b[38;5;241;43m2050\u001b[39;49m\u001b[43m}\u001b[49m\u001b[43m,\u001b[49m\n\u001b[1;32m      4\u001b[0m \u001b[43m        \u001b[49m\u001b[43m{\u001b[49m\u001b[38;5;124;43m\"\u001b[39;49m\u001b[38;5;124;43mmodel\u001b[39;49m\u001b[38;5;124;43m\"\u001b[39;49m\u001b[43m:\u001b[49m\u001b[38;5;124;43m\"\u001b[39;49m\u001b[38;5;124;43mremind\u001b[39;49m\u001b[38;5;124;43m\"\u001b[39;49m\u001b[43m,\u001b[49m\u001b[43m \u001b[49m\u001b[38;5;124;43m\"\u001b[39;49m\u001b[38;5;124;43mpathway\u001b[39;49m\u001b[38;5;124;43m\"\u001b[39;49m\u001b[43m:\u001b[49m\u001b[38;5;124;43m\"\u001b[39;49m\u001b[38;5;124;43mSSP2-PkBudg500\u001b[39;49m\u001b[38;5;124;43m\"\u001b[39;49m\u001b[43m,\u001b[49m\u001b[43m \u001b[49m\u001b[38;5;124;43m\"\u001b[39;49m\u001b[38;5;124;43myear\u001b[39;49m\u001b[38;5;124;43m\"\u001b[39;49m\u001b[43m:\u001b[49m\u001b[38;5;241;43m2050\u001b[39;49m\u001b[43m}\u001b[49m\u001b[43m,\u001b[49m\n\u001b[1;32m      5\u001b[0m \u001b[43m    \u001b[49m\u001b[43m]\u001b[49m\u001b[43m,\u001b[49m\n\u001b[1;32m      6\u001b[0m \u001b[43m    \u001b[49m\u001b[43msource_db\u001b[49m\u001b[38;5;241;43m=\u001b[39;49m\u001b[38;5;124;43m\"\u001b[39;49m\u001b[38;5;124;43mecoinvent-3.10-apos\u001b[39;49m\u001b[38;5;124;43m\"\u001b[39;49m\u001b[43m,\u001b[49m\u001b[43m \u001b[49m\u001b[38;5;66;43;03m# <-- name of the database in the BW2 project. Must be a string.\u001b[39;49;00m\n\u001b[1;32m      7\u001b[0m \u001b[43m    \u001b[49m\u001b[43msource_version\u001b[49m\u001b[38;5;241;43m=\u001b[39;49m\u001b[38;5;124;43m\"\u001b[39;49m\u001b[38;5;124;43m3.10\u001b[39;49m\u001b[38;5;124;43m\"\u001b[39;49m\u001b[43m,\u001b[49m\u001b[43m \u001b[49m\u001b[38;5;66;43;03m# <-- version of ecoinvent. Can be \"3.8\", \"3.9\" or \"3.10\". Must be a string.\u001b[39;49;00m\n\u001b[1;32m      8\u001b[0m \u001b[43m    \u001b[49m\u001b[43mkey\u001b[49m\u001b[38;5;241;43m=\u001b[39;49m\u001b[38;5;124;43m'\u001b[39;49m\u001b[38;5;124;43mxxxxxxxxxxxxxxxxxxxxxxxxx\u001b[39;49m\u001b[38;5;124;43m'\u001b[39;49m\u001b[43m,\u001b[49m\u001b[43m \u001b[49m\u001b[38;5;66;43;03m# <-- decryption key\u001b[39;49;00m\n\u001b[1;32m      9\u001b[0m \u001b[43m    \u001b[49m\u001b[38;5;66;43;03m# to be requested from the library maintainers if you want ot use default scenarios included in `premise`\u001b[39;49;00m\n\u001b[1;32m     10\u001b[0m \u001b[43m    \u001b[49m\u001b[43mkeep_source_db_uncertainty\u001b[49m\u001b[38;5;241;43m=\u001b[39;49m\u001b[38;5;28;43;01mFalse\u001b[39;49;00m\u001b[43m,\u001b[49m\u001b[43m \u001b[49m\u001b[38;5;66;43;03m# False by default, set to True if you want to keep ecoinvent's uncertainty data\u001b[39;49;00m\n\u001b[1;32m     11\u001b[0m \u001b[43m    \u001b[49m\u001b[43mkeep_imports_uncertainty\u001b[49m\u001b[38;5;241;43m=\u001b[39;49m\u001b[38;5;28;43;01mFalse\u001b[39;49;00m\u001b[43m,\u001b[49m\u001b[43m \u001b[49m\u001b[38;5;66;43;03m# False by default, set to True if you want to keep the uncertainty data of the additional inventories\u001b[39;49;00m\n\u001b[1;32m     12\u001b[0m \u001b[43m    \u001b[49m\u001b[43muse_absolute_efficiency\u001b[49m\u001b[38;5;241;43m=\u001b[39;49m\u001b[38;5;28;43;01mTrue\u001b[39;49;00m\u001b[43m,\u001b[49m\u001b[43m \u001b[49m\u001b[38;5;66;43;03m# False by default, set to True if you want to use the IAM's absolute efficiencies\u001b[39;49;00m\n\u001b[1;32m     13\u001b[0m \u001b[43m)\u001b[49m\n",
      "File \u001b[0;32m~/github/bw_playground/.venvpremise/lib/python3.10/site-packages/premise/new_database.py:555\u001b[0m, in \u001b[0;36mNewDatabase.__init__\u001b[0;34m(self, scenarios, source_version, source_type, key, source_db, source_file_path, additional_inventories, system_model, system_args, use_cached_inventories, use_cached_database, external_scenarios, quiet, keep_imports_uncertainty, keep_source_db_uncertainty, gains_scenario, use_absolute_efficiency, biosphere_name)\u001b[0m\n\u001b[1;32m    552\u001b[0m \u001b[38;5;28;01melse\u001b[39;00m:\n\u001b[1;32m    553\u001b[0m     \u001b[38;5;28mself\u001b[39m\u001b[38;5;241m.\u001b[39msource_file_path \u001b[38;5;241m=\u001b[39m \u001b[38;5;28;01mNone\u001b[39;00m\n\u001b[0;32m--> 555\u001b[0m \u001b[38;5;28mself\u001b[39m\u001b[38;5;241m.\u001b[39mscenarios \u001b[38;5;241m=\u001b[39m [check_scenarios(scenario, key) \u001b[38;5;28;01mfor\u001b[39;00m scenario \u001b[38;5;129;01min\u001b[39;00m scenarios]\n\u001b[1;32m    557\u001b[0m \u001b[38;5;66;03m# print some info\u001b[39;00m\n\u001b[1;32m    558\u001b[0m \u001b[38;5;28;01mif\u001b[39;00m \u001b[38;5;129;01mnot\u001b[39;00m quiet:\n",
      "File \u001b[0;32m~/github/bw_playground/.venvpremise/lib/python3.10/site-packages/premise/new_database.py:555\u001b[0m, in \u001b[0;36m<listcomp>\u001b[0;34m(.0)\u001b[0m\n\u001b[1;32m    552\u001b[0m \u001b[38;5;28;01melse\u001b[39;00m:\n\u001b[1;32m    553\u001b[0m     \u001b[38;5;28mself\u001b[39m\u001b[38;5;241m.\u001b[39msource_file_path \u001b[38;5;241m=\u001b[39m \u001b[38;5;28;01mNone\u001b[39;00m\n\u001b[0;32m--> 555\u001b[0m \u001b[38;5;28mself\u001b[39m\u001b[38;5;241m.\u001b[39mscenarios \u001b[38;5;241m=\u001b[39m [\u001b[43mcheck_scenarios\u001b[49m\u001b[43m(\u001b[49m\u001b[43mscenario\u001b[49m\u001b[43m,\u001b[49m\u001b[43m \u001b[49m\u001b[43mkey\u001b[49m\u001b[43m)\u001b[49m \u001b[38;5;28;01mfor\u001b[39;00m scenario \u001b[38;5;129;01min\u001b[39;00m scenarios]\n\u001b[1;32m    557\u001b[0m \u001b[38;5;66;03m# print some info\u001b[39;00m\n\u001b[1;32m    558\u001b[0m \u001b[38;5;28;01mif\u001b[39;00m \u001b[38;5;129;01mnot\u001b[39;00m quiet:\n",
      "File \u001b[0;32m~/github/bw_playground/.venvpremise/lib/python3.10/site-packages/premise/new_database.py:391\u001b[0m, in \u001b[0;36mcheck_scenarios\u001b[0;34m(scenario, key)\u001b[0m\n\u001b[1;32m    388\u001b[0m     \u001b[38;5;28;01melse\u001b[39;00m:\n\u001b[1;32m    389\u001b[0m         \u001b[38;5;66;03m# make sure that the key is 44 bytes long\u001b[39;00m\n\u001b[1;32m    390\u001b[0m         \u001b[38;5;28;01mif\u001b[39;00m \u001b[38;5;28mlen\u001b[39m(key) \u001b[38;5;241m!=\u001b[39m \u001b[38;5;241m44\u001b[39m:\n\u001b[0;32m--> 391\u001b[0m             \u001b[38;5;28;01mraise\u001b[39;00m \u001b[38;5;167;01mValueError\u001b[39;00m(\n\u001b[1;32m    392\u001b[0m                 \u001b[38;5;124mf\u001b[39m\u001b[38;5;124m\"\u001b[39m\u001b[38;5;124mThe key must be 44 bytes long, not \u001b[39m\u001b[38;5;132;01m{\u001b[39;00m\u001b[38;5;28mlen\u001b[39m(key)\u001b[38;5;132;01m}\u001b[39;00m\u001b[38;5;124m bytes.\u001b[39m\u001b[38;5;124m\"\u001b[39m\n\u001b[1;32m    393\u001b[0m             )\n\u001b[1;32m    395\u001b[0m scenario[\u001b[38;5;124m\"\u001b[39m\u001b[38;5;124mmodel\u001b[39m\u001b[38;5;124m\"\u001b[39m] \u001b[38;5;241m=\u001b[39m check_model_name(scenario[\u001b[38;5;124m\"\u001b[39m\u001b[38;5;124mmodel\u001b[39m\u001b[38;5;124m\"\u001b[39m])\n\u001b[1;32m    396\u001b[0m scenario[\u001b[38;5;124m\"\u001b[39m\u001b[38;5;124mpathway\u001b[39m\u001b[38;5;124m\"\u001b[39m] \u001b[38;5;241m=\u001b[39m check_pathway_name(\n\u001b[1;32m    397\u001b[0m     scenario[\u001b[38;5;124m\"\u001b[39m\u001b[38;5;124mpathway\u001b[39m\u001b[38;5;124m\"\u001b[39m], scenario[\u001b[38;5;124m\"\u001b[39m\u001b[38;5;124mfilepath\u001b[39m\u001b[38;5;124m\"\u001b[39m], scenario[\u001b[38;5;124m\"\u001b[39m\u001b[38;5;124mmodel\u001b[39m\u001b[38;5;124m\"\u001b[39m]\n\u001b[1;32m    398\u001b[0m )\n",
      "\u001b[0;31mValueError\u001b[0m: The key must be 44 bytes long, not 25 bytes."
     ]
    }
   ],
   "source": [
    "ndb = NewDatabase(\n",
    "    scenarios=[\n",
    "        {\"model\":\"image\", \"pathway\":\"SSP2-RCP19\", \"year\":2050},\n",
    "        {\"model\":\"remind\", \"pathway\":\"SSP2-PkBudg500\", \"year\":2050},\n",
    "    ],\n",
    "    source_db=\"ecoinvent-3.10-apos\", # <-- name of the database in the BW2 project. Must be a string.\n",
    "    source_version=\"3.10\", # <-- version of ecoinvent. Can be \"3.8\", \"3.9\" or \"3.10\". Must be a string.\n",
    "    key='xxxxxxxxxxxxxxxxxxxxxxxxx', # <-- decryption key\n",
    "    # to be requested from the library maintainers if you want ot use default scenarios included in `premise`\n",
    "    keep_source_db_uncertainty=False, # False by default, set to True if you want to keep ecoinvent's uncertainty data\n",
    "    keep_imports_uncertainty=False, # False by default, set to True if you want to keep the uncertainty data of the additional inventories\n",
    "    use_absolute_efficiency=True, # False by default, set to True if you want to use the IAM's absolute efficiencies\n",
    ")"
   ]
  },
  {
   "cell_type": "code",
   "execution_count": 1,
   "metadata": {},
   "outputs": [
    {
     "name": "stdout",
     "output_type": "stream",
     "text": [
      "\u001b[2m13:11:52+0200\u001b[0m [\u001b[33m\u001b[1mwarning  \u001b[0m] \u001b[1mCan't import `SimaProBlockCSVImporter` - please install `bw2io` with `pip install bw2io[multifunctional]` or install `multifunctional` and `bw_simapro_csv` manually.\u001b[0m\n"
     ]
    }
   ],
   "source": [
    "import bw2io as bi\n",
    "import bw2data as bd\n",
    "import premise"
   ]
  },
  {
   "cell_type": "code",
   "execution_count": 6,
   "metadata": {},
   "outputs": [],
   "source": [
    "bd.projects.set_current(\"test_premise\")"
   ]
  },
  {
   "cell_type": "code",
   "execution_count": 7,
   "metadata": {},
   "outputs": [
    {
     "data": {
      "text/plain": [
       "Databases dictionary with 0 objects"
      ]
     },
     "execution_count": 7,
     "metadata": {},
     "output_type": "execute_result"
    }
   ],
   "source": [
    "bd.databases"
   ]
  },
  {
   "cell_type": "code",
   "execution_count": 8,
   "metadata": {},
   "outputs": [
    {
     "name": "stdout",
     "output_type": "stream",
     "text": [
      "Applying strategy: normalize_units\n",
      "Applying strategy: drop_unspecified_subcategories\n",
      "Applying strategy: ensure_categories_are_tuples\n",
      "Applied 3 strategies in 0.00 seconds\n",
      "Graph statistics for `ecoinvent-3.10-biosphere` importer:\n",
      "4362 graph nodes:\n",
      "\temission: 4000\n",
      "\tnatural resource: 344\n",
      "\tinventory indicator: 13\n",
      "\teconomic: 5\n",
      "0 graph edges:\n",
      "0 edges to the following databases:\n",
      "0 unique unlinked edges (0 total):\n",
      "\n",
      "\n"
     ]
    },
    {
     "name": "stderr",
     "output_type": "stream",
     "text": [
      "100%|██████████| 4362/4362 [00:00<00:00, 33499.26it/s]"
     ]
    },
    {
     "name": "stdout",
     "output_type": "stream",
     "text": [
      "\u001b[2m13:12:39+0200\u001b[0m [\u001b[32m\u001b[1minfo     \u001b[0m] \u001b[1mVacuuming database            \u001b[0m\n"
     ]
    },
    {
     "name": "stderr",
     "output_type": "stream",
     "text": [
      "\n"
     ]
    },
    {
     "name": "stdout",
     "output_type": "stream",
     "text": [
      "Created database: ecoinvent-3.10-biosphere\n",
      "Extracting XML data from 24033 datasets\n",
      "\u001b[2m13:12:43+0200\u001b[0m [\u001b[33m\u001b[1mwarning  \u001b[0m] \u001b[1mCan't import `SimaProBlockCSVImporter` - please install `bw2io` with `pip install bw2io[multifunctional]` or install `multifunctional` and `bw_simapro_csv` manually.\u001b[0m\n",
      "\u001b[2m13:12:43+0200\u001b[0m [\u001b[33m\u001b[1mwarning  \u001b[0m] \u001b[1mCan't import `SimaProBlockCSVImporter` - please install `bw2io` with `pip install bw2io[multifunctional]` or install `multifunctional` and `bw_simapro_csv` manually.\u001b[0m\n",
      "\u001b[2m13:12:43+0200\u001b[0m [\u001b[33m\u001b[1mwarning  \u001b[0m] \u001b[1mCan't import `SimaProBlockCSVImporter` - please install `bw2io` with `pip install bw2io[multifunctional]` or install `multifunctional` and `bw_simapro_csv` manually.\u001b[0m\u001b[2m13:12:43+0200\u001b[0m [\u001b[33m\u001b[1mwarning  \u001b[0m] \u001b[1mCan't import `SimaProBlockCSVImporter` - please install `bw2io` with `pip install bw2io[multifunctional]` or install `multifunctional` and `bw_simapro_csv` manually.\u001b[0m\n",
      "\n",
      "\u001b[2m13:12:43+0200\u001b[0m [\u001b[33m\u001b[1mwarning  \u001b[0m] \u001b[1mCan't import `SimaProBlockCSVImporter` - please install `bw2io` with `pip install bw2io[multifunctional]` or install `multifunctional` and `bw_simapro_csv` manually.\u001b[0m\u001b[2m13:12:43+0200\u001b[0m [\u001b[33m\u001b[1mwarning  \u001b[0m] \u001b[1mCan't import `SimaProBlockCSVImporter` - please install `bw2io` with `pip install bw2io[multifunctional]` or install `multifunctional` and `bw_simapro_csv` manually.\u001b[0m\n",
      "\n",
      "\u001b[2m13:12:43+0200\u001b[0m [\u001b[33m\u001b[1mwarning  \u001b[0m] \u001b[1mCan't import `SimaProBlockCSVImporter` - please install `bw2io` with `pip install bw2io[multifunctional]` or install `multifunctional` and `bw_simapro_csv` manually.\u001b[0m\n",
      "\u001b[2m13:12:43+0200\u001b[0m [\u001b[33m\u001b[1mwarning  \u001b[0m] \u001b[1mCan't import `SimaProBlockCSVImporter` - please install `bw2io` with `pip install bw2io[multifunctional]` or install `multifunctional` and `bw_simapro_csv` manually.\u001b[0m\n",
      "\u001b[2m13:12:43+0200\u001b[0m [\u001b[33m\u001b[1mwarning  \u001b[0m] \u001b[1mCan't import `SimaProBlockCSVImporter` - please install `bw2io` with `pip install bw2io[multifunctional]` or install `multifunctional` and `bw_simapro_csv` manually.\u001b[0m\n",
      "\u001b[2m13:12:43+0200\u001b[0m [\u001b[33m\u001b[1mwarning  \u001b[0m] \u001b[1mCan't import `SimaProBlockCSVImporter` - please install `bw2io` with `pip install bw2io[multifunctional]` or install `multifunctional` and `bw_simapro_csv` manually.\u001b[0m\n",
      "\u001b[2m13:13:02+0200\u001b[0m [\u001b[32m\u001b[1minfo     \u001b[0m] \u001b[1mExtracted 24033 datasets in 22.09 seconds\u001b[0m\n",
      "Applying strategy: normalize_units\n",
      "Applying strategy: update_ecoinvent_locations\n",
      "Applying strategy: remove_zero_amount_coproducts\n",
      "Applying strategy: remove_zero_amount_inputs_with_no_activity\n",
      "Applying strategy: remove_unnamed_parameters\n",
      "Applying strategy: es2_assign_only_product_with_amount_as_reference_product\n",
      "Applying strategy: assign_single_product_as_activity\n",
      "Applying strategy: create_composite_code\n",
      "Applying strategy: drop_unspecified_subcategories\n",
      "Applying strategy: fix_ecoinvent_flows_pre35\n",
      "Applying strategy: drop_temporary_outdated_biosphere_flows\n",
      "Applying strategy: link_biosphere_by_flow_uuid\n",
      "Applying strategy: link_internal_technosphere_by_composite_code\n",
      "Applying strategy: delete_exchanges_missing_activity\n",
      "Applying strategy: delete_ghost_exchanges\n",
      "Applying strategy: remove_uncertainty_from_negative_loss_exchanges\n",
      "Applying strategy: fix_unreasonably_high_lognormal_uncertainties\n",
      "Applying strategy: convert_activity_parameters_to_list\n",
      "Applying strategy: add_cpc_classification_from_single_reference_product\n",
      "Applying strategy: delete_none_synonyms\n",
      "Applying strategy: update_social_flows_in_older_consequential\n",
      "Applying strategy: set_lognormal_loc_value\n",
      "Applied 22 strategies in 9.57 seconds\n",
      "Graph statistics for `ecoinvent-3.10-apos` importer:\n",
      "24033 graph nodes:\n",
      "\tprocess: 24033\n",
      "1313387 graph edges:\n",
      "\ttechnosphere: 680699\n",
      "\tbiosphere: 608655\n",
      "\tproduction: 24033\n",
      "1313387 edges to the following databases:\n",
      "\tecoinvent-3.10-apos: 704732\n",
      "\tecoinvent-3.10-biosphere: 608655\n",
      "0 unique unlinked edges (0 total):\n",
      "\n",
      "\n",
      "\u001b[2m13:13:13+0200\u001b[0m [\u001b[33m\u001b[1mwarning  \u001b[0m] \u001b[1mNot able to determine geocollections for all datasets. This database is not ready for regionalization.\u001b[0m\n"
     ]
    },
    {
     "name": "stderr",
     "output_type": "stream",
     "text": [
      "100%|██████████| 24033/24033 [01:02<00:00, 381.70it/s]\n"
     ]
    },
    {
     "name": "stdout",
     "output_type": "stream",
     "text": [
      "\u001b[2m13:14:16+0200\u001b[0m [\u001b[32m\u001b[1minfo     \u001b[0m] \u001b[1mVacuuming database            \u001b[0m\n",
      "Created database: ecoinvent-3.10-apos\n"
     ]
    }
   ],
   "source": [
    "bi.import_ecoinvent_release(\n",
    "    version='3.10',\n",
    "    system_model='apos',\n",
    "    username='MichaelWeinold',\n",
    "    password='jaqpaj-Mippuw-8hyjhe'\n",
    ")"
   ]
  }
 ],
 "metadata": {
  "kernelspec": {
   "display_name": ".venvpremise",
   "language": "python",
   "name": "python3"
  },
  "language_info": {
   "codemirror_mode": {
    "name": "ipython",
    "version": 3
   },
   "file_extension": ".py",
   "mimetype": "text/x-python",
   "name": "python",
   "nbconvert_exporter": "python",
   "pygments_lexer": "ipython3",
   "version": "3.10.17"
  },
  "orig_nbformat": 4
 },
 "nbformat": 4,
 "nbformat_minor": 2
}
