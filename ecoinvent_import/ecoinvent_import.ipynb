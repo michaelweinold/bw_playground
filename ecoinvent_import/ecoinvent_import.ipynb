{
 "cells": [
  {
   "attachments": {},
   "cell_type": "markdown",
   "metadata": {},
   "source": [
    "## 0. Setup\n",
    "### 0.1. Imports"
   ]
  },
  {
   "cell_type": "code",
   "execution_count": 1,
   "metadata": {},
   "outputs": [],
   "source": [
    "import bw2io\n",
    "import bw2data\n",
    "# type hints\n",
    "from bw2io import SingleOutputEcospold2Importer"
   ]
  },
  {
   "attachments": {},
   "cell_type": "markdown",
   "metadata": {},
   "source": [
    "### 0.2. Variables"
   ]
  },
  {
   "cell_type": "code",
   "execution_count": 2,
   "metadata": {},
   "outputs": [],
   "source": [
    "str_ecoinvent_version: str = '3.9.1'"
   ]
  },
  {
   "attachments": {},
   "cell_type": "markdown",
   "metadata": {},
   "source": [
    "### 0.2. file paths"
   ]
  },
  {
   "cell_type": "code",
   "execution_count": 3,
   "metadata": {},
   "outputs": [],
   "source": [
    "path_dir_datasets_ecoinvent: str = '/Users/michaelweinold/data/data_raw/ecoinvent_' + str_ecoinvent_version + '_cutoff_ecoSpold02/datasets'"
   ]
  },
  {
   "attachments": {},
   "cell_type": "markdown",
   "metadata": {},
   "source": [
    "## 1. `Brightway` setup\n",
    "### 1.1. list all projects and current project"
   ]
  },
  {
   "cell_type": "code",
   "execution_count": 4,
   "metadata": {},
   "outputs": [
    {
     "data": {
      "text/plain": [
       "Brightway2 projects manager with 6 objects:\n",
       "\t3.8\n",
       "\t3.9\n",
       "\t3.9.1\n",
       "\tdefault\n",
       "\tecoinvent35\n",
       "\tecoinvent38\n",
       "Use `projects.report()` to get a report on all projects."
      ]
     },
     "execution_count": 4,
     "metadata": {},
     "output_type": "execute_result"
    }
   ],
   "source": [
    "bw2data.projects"
   ]
  },
  {
   "cell_type": "code",
   "execution_count": 5,
   "metadata": {},
   "outputs": [
    {
     "data": {
      "text/plain": [
       "'default'"
      ]
     },
     "execution_count": 5,
     "metadata": {},
     "output_type": "execute_result"
    }
   ],
   "source": [
    "bw2data.projects.current"
   ]
  },
  {
   "attachments": {},
   "cell_type": "markdown",
   "metadata": {},
   "source": [
    "### 1.2. ensure no project is corrupted\n",
    "\n",
    "if a project has been corrupted, simply delete it and re-populate it. \\\n",
    "🌐 compare [`bw2io` issue #118](https://github.com/brightway-lca/brightway2-data/issues/118)"
   ]
  },
  {
   "cell_type": "code",
   "execution_count": 7,
   "metadata": {},
   "outputs": [],
   "source": [
    "def safe_delete_brightway_project(name: str) -> None:\n",
    "    try:\n",
    "        bw2data.projects.delete_project(\n",
    "            name = name,\n",
    "            delete_dir = True\n",
    "        )\n",
    "    except:\n",
    "        pass"
   ]
  },
  {
   "attachments": {},
   "cell_type": "markdown",
   "metadata": {},
   "source": [
    "## 2. Import `Ecoinvent` Databases\n",
    "### 2.1. `Ecoinvent 3.9.1`\n",
    "\n",
    "\"Which `bw2io` version to use?\" - Compare the [Brightway mailing list](https://brightway.groups.io/g/development/message/154) and the [`bw2io` changelog](https://github.com/brightway-lca/brightway2-io/blob/main/CHANGES.md#085-2021-09-21): for Ecoinvent <3.8: use `0.8.7`"
   ]
  },
  {
   "cell_type": "code",
   "execution_count": 8,
   "metadata": {},
   "outputs": [
    {
     "data": {
      "text/plain": [
       "(0, 8, 8)"
      ]
     },
     "execution_count": 8,
     "metadata": {},
     "output_type": "execute_result"
    }
   ],
   "source": [
    "bw2io.__version__"
   ]
  },
  {
   "cell_type": "code",
   "execution_count": 9,
   "metadata": {},
   "outputs": [
    {
     "name": "stdout",
     "output_type": "stream",
     "text": [
      "Creating default biosphere\n",
      "\n",
      "Applying strategy: normalize_units\n",
      "Applying strategy: drop_unspecified_subcategories\n",
      "Applying strategy: ensure_categories_are_tuples\n",
      "Applied 3 strategies in 0.00 seconds\n",
      "Warning: No valid output stream.\n",
      "Title: Writing activities to SQLite3 database:\n",
      "  Started: 04/01/2023 14:06:45\n",
      "  Finished: 04/01/2023 14:06:45\n",
      "  Total time elapsed: 00:00:00\n",
      "  CPU %: 100.10\n",
      "  Memory %: 0.51\n",
      "Created database: biosphere3\n",
      "Creating default LCIA methods\n",
      "\n",
      "Wrote 762 LCIA methods with 227223 characterization factors\n",
      "Creating core data migrations\n",
      "\n",
      "Extracting XML data from 21238 datasets\n",
      "Extracted 21238 datasets in 16.96 seconds\n"
     ]
    }
   ],
   "source": [
    "safe_delete_brightway_project(str_ecoinvent_version)\n",
    "bw2data.projects.set_current(str_ecoinvent_version)\n",
    "bw2io.bw2setup()\n",
    "importer: SingleOutputEcospold2Importer = bw2io.SingleOutputEcospold2Importer(\n",
    "    dirpath = path_dir_datasets_ecoinvent,\n",
    "    db_name = str_ecoinvent_version\n",
    ")"
   ]
  },
  {
   "cell_type": "code",
   "execution_count": 10,
   "metadata": {},
   "outputs": [
    {
     "name": "stdout",
     "output_type": "stream",
     "text": [
      "Applying strategy: normalize_units\n",
      "Applying strategy: update_ecoinvent_locations\n",
      "Applying strategy: remove_zero_amount_coproducts\n",
      "Applying strategy: remove_zero_amount_inputs_with_no_activity\n",
      "Applying strategy: remove_unnamed_parameters\n",
      "Applying strategy: es2_assign_only_product_with_amount_as_reference_product\n",
      "Applying strategy: assign_single_product_as_activity\n",
      "Applying strategy: create_composite_code\n",
      "Applying strategy: drop_unspecified_subcategories\n",
      "Applying strategy: fix_ecoinvent_flows_pre35\n",
      "Applying strategy: drop_temporary_outdated_biosphere_flows\n",
      "Applying strategy: link_biosphere_by_flow_uuid\n",
      "Applying strategy: link_internal_technosphere_by_composite_code\n",
      "Applying strategy: delete_exchanges_missing_activity\n",
      "Applying strategy: delete_ghost_exchanges\n",
      "Applying strategy: remove_uncertainty_from_negative_loss_exchanges\n",
      "Applying strategy: fix_unreasonably_high_lognormal_uncertainties\n",
      "Applying strategy: set_lognormal_loc_value\n",
      "Applying strategy: convert_activity_parameters_to_list\n",
      "Applying strategy: add_cpc_classification_from_single_reference_product\n",
      "Applying strategy: delete_none_synonyms\n",
      "Applied 21 strategies in 3.59 seconds\n",
      "21238 datasets\n",
      "674593 exchanges\n",
      "0 unlinked exchanges\n",
      "  \n"
     ]
    },
    {
     "data": {
      "text/plain": [
       "(21238, 674593, 0)"
      ]
     },
     "execution_count": 10,
     "metadata": {},
     "output_type": "execute_result"
    }
   ],
   "source": [
    "importer.apply_strategies()\n",
    "importer.statistics()"
   ]
  },
  {
   "attachments": {},
   "cell_type": "markdown",
   "metadata": {},
   "source": [
    "## 3. Investigation"
   ]
  },
  {
   "cell_type": "code",
   "execution_count": 12,
   "metadata": {},
   "outputs": [],
   "source": [
    "activity0: dict = importer.data[0]"
   ]
  },
  {
   "cell_type": "code",
   "execution_count": 13,
   "metadata": {},
   "outputs": [
    {
     "data": {
      "text/plain": [
       "['market for cyanuric chloride',\n",
       " 'cyanuric chloride',\n",
       " 'kilogram',\n",
       " 'f32ba57ebce8c08759275f740a88f370',\n",
       " 'process']"
      ]
     },
     "execution_count": 13,
     "metadata": {},
     "output_type": "execute_result"
    }
   ],
   "source": [
    "keys = [\n",
    "    'name',\n",
    "    'reference product',\n",
    "    'unit',\n",
    "    'code',\n",
    "    'type'\n",
    "]\n",
    "[activity0[key] for key in keys if key in activity0]"
   ]
  },
  {
   "cell_type": "code",
   "execution_count": 19,
   "metadata": {},
   "outputs": [],
   "source": [
    "ei38 = bw2data.Database('ei38')"
   ]
  },
  {
   "cell_type": "code",
   "execution_count": 43,
   "metadata": {},
   "outputs": [],
   "source": [
    "biosphere = bw2data.Database(\"biosphere3\")"
   ]
  },
  {
   "cell_type": "code",
   "execution_count": 52,
   "metadata": {},
   "outputs": [
    {
     "data": {
      "text/plain": [
       "'Boron carbide' (kilogram, None, ('air', 'low population density, long-term'))"
      ]
     },
     "execution_count": 52,
     "metadata": {},
     "output_type": "execute_result"
    }
   ],
   "source": [
    "biosphere.random()"
   ]
  },
  {
   "cell_type": "code",
   "execution_count": 56,
   "metadata": {},
   "outputs": [
    {
     "data": {
      "text/plain": [
       "{'categories': ('air', 'non-urban air or from high stacks'),\n",
       " 'code': '4eb24f81-0468-4b92-bae3-8b12dfc90438',\n",
       " 'CAS number': '014269-63-7',\n",
       " 'name': 'Thorium-230',\n",
       " 'database': 'biosphere3',\n",
       " 'unit': 'kilo Becquerel',\n",
       " 'type': 'emission'}"
      ]
     },
     "execution_count": 56,
     "metadata": {},
     "output_type": "execute_result"
    }
   ],
   "source": [
    "biosphere.get('4eb24f81-0468-4b92-bae3-8b12dfc90438').as_dict()"
   ]
  },
  {
   "cell_type": "code",
   "execution_count": 55,
   "metadata": {},
   "outputs": [
    {
     "data": {
      "text/plain": [
       "{'categories': ('natural resource', 'in water'),\n",
       " 'code': 'fc1c42ce-a759-49fa-b987-f1ec5e503db1',\n",
       " 'CAS number': '007732-18-5',\n",
       " 'name': 'Water, cooling, unspecified natural origin',\n",
       " 'database': 'biosphere3',\n",
       " 'unit': 'cubic meter',\n",
       " 'type': 'natural resource'}"
      ]
     },
     "execution_count": 55,
     "metadata": {},
     "output_type": "execute_result"
    }
   ],
   "source": [
    "biosphere.get('fc1c42ce-a759-49fa-b987-f1ec5e503db1').as_dict()"
   ]
  },
  {
   "cell_type": "code",
   "execution_count": 23,
   "metadata": {},
   "outputs": [
    {
     "data": {
      "text/plain": [
       "{'flow': '76ab0018-e176-43e0-b42c-12e82b937fef',\n",
       " 'type': 'technosphere',\n",
       " 'name': 'hard coal ash',\n",
       " 'classifications': {'CPC': ['39: Wastes or scraps']},\n",
       " 'production volume': 2353465484.53608,\n",
       " 'properties': {'wet mass': {'amount': 1.0, 'unit': 'kg'},\n",
       "  'carbon content, non-fossil': {'amount': 0.0, 'unit': 'dimensionless'},\n",
       "  'carbon content, fossil': {'amount': 0.0,\n",
       "   'unit': 'dimensionless',\n",
       "   'comment': 'Tab A.7 & A.8, ecoinvent v2.2 report 13_I'},\n",
       "  'water in wet mass': {'amount': 0.0,\n",
       "   'unit': 'kg',\n",
       "   'comment': 'Tab A.7 & A.8, ecoinvent v2.2 report 13_I'},\n",
       "  'dry mass': {'amount': 1.0, 'unit': 'kg'},\n",
       "  'water content': {'amount': 0.0,\n",
       "   'unit': 'dimensionless',\n",
       "   'comment': 'water mass/dry mass'},\n",
       "  'price': {'amount': 0.0,\n",
       "   'unit': 'EUR2005',\n",
       "   'comment': 'Waste products are assigned a price of zero as they are assumed to require further treatment.'},\n",
       "  'carbon content': {'amount': 0.0,\n",
       "   'unit': 'dimensionless',\n",
       "   'comment': 'carbon content on a dry matter basis (reserved; not for manual entry)'},\n",
       "  'carbon allocation': {'amount': 0.0,\n",
       "   'unit': 'kg',\n",
       "   'comment': 'carbon content per unit of product (reserved; not for manual entry)'}},\n",
       " 'activity': '69a3e4a7-0559-479f-888b-2da6b5e7780a',\n",
       " 'unit': 'kilogram',\n",
       " 'comment': 'Calculated value. \\nHard coal ash can either be used as secondary product (\"recycled\"), or be disposed of. According to (NREL 2006), the rate of ash production is 0.0915 kg ash per kg burned coal (includes fly ash, bottom ash, and boiler slag). Thereof, 30% is further used; the rest must be disposed of (NREL 2006).\\nUS National Renewable Energy Laboratory (2006) U.S. Life-Cycle Inventory (LCI) Database, <http://www.nrel.gov/lci/about.html>, last updated in the coal chain as of October 2006, according to http://www.nrel.gov/lci/database/pdf/USLCIDB_ChangeLog.pdf.',\n",
       " 'amount': -0.0248659793814433,\n",
       " 'pedigree': {'reliability': 5,\n",
       "  'completeness': 3,\n",
       "  'temporal correlation': 5,\n",
       "  'geographical correlation': 5,\n",
       "  'further technological correlation': 3},\n",
       " 'uncertainty type': 2,\n",
       " 'loc': -3.6942546996384436,\n",
       " 'scale': 0.36138621999185305,\n",
       " 'scale without pedigree': 0.2,\n",
       " 'input': ('ei38', '17146dd21624ee7abd556d6b1d48e1bc')}"
      ]
     },
     "execution_count": 23,
     "metadata": {},
     "output_type": "execute_result"
    }
   ],
   "source": [
    "activity0['exchanges'][0]"
   ]
  }
 ],
 "metadata": {
  "kernelspec": {
   "display_name": "pylcaio_ecoinvent_3_9",
   "language": "python",
   "name": "python3"
  },
  "language_info": {
   "codemirror_mode": {
    "name": "ipython",
    "version": 3
   },
   "file_extension": ".py",
   "mimetype": "text/x-python",
   "name": "python",
   "nbconvert_exporter": "python",
   "pygments_lexer": "ipython3",
   "version": "3.11.2"
  },
  "orig_nbformat": 4,
  "vscode": {
   "interpreter": {
    "hash": "3c89c8428eb62ebeff7cce9fe46d72c1c903a49cd2726d542d3c7356791f0388"
   }
  }
 },
 "nbformat": 4,
 "nbformat_minor": 2
}
