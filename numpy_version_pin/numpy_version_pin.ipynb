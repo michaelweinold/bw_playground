{
 "cells": [
  {
   "cell_type": "markdown",
   "id": "4b4e31f9",
   "metadata": {},
   "source": [
    "Install Brightway [the usual way](https://docs.brightway.dev/en/latest/content/installation/index.html#installing-brightway-using-pip):\n",
    "\n",
    "```bash\n",
    "pip install brightway25 pypardiso\n",
    "```\n",
    "\n",
    "check which version of `pypardiso` and `numpy` were installed:\n",
    "\n",
    "```bash\n",
    "pip freeze\n",
    "```\n",
    "\n",
    "Now uninstall `numpy`, which is pinned to `numpy<2.0` by Brightway:\n",
    "\n",
    "```bash\n",
    "pip uninstall numpy\n",
    "```\n",
    "\n",
    "and install the latest version of `numpy`:\n",
    "\n",
    "```bash\n",
    "pip install numpy==2.3.1\n",
    "```\n",
    "\n",
    "Now we can check if the installation was successful by running a simple example:"
   ]
  },
  {
   "cell_type": "code",
   "execution_count": null,
   "id": "7e4a3745",
   "metadata": {},
   "outputs": [],
   "source": [
    "%%time\n",
    "\n",
    "import pypardiso\n",
    "import numpy as np\n",
    "import scipy.sparse as sp\n",
    "\n",
    "A = sp.rand(10, 10, density=0.5, format='csr')\n",
    "b = np.random.rand(10)\n",
    "x = pypardiso.spsolve(A, b)"
   ]
  }
 ],
 "metadata": {
  "kernelspec": {
   "display_name": "venvumfpack",
   "language": "python",
   "name": "python3"
  },
  "language_info": {
   "codemirror_mode": {
    "name": "ipython",
    "version": 3
   },
   "file_extension": ".py",
   "mimetype": "text/x-python",
   "name": "python",
   "nbconvert_exporter": "python",
   "pygments_lexer": "ipython3",
   "version": "3.13.3"
  }
 },
 "nbformat": 4,
 "nbformat_minor": 5
}
